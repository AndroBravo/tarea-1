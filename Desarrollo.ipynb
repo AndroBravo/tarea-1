{
  "nbformat": 4,
  "nbformat_minor": 0,
  "metadata": {
    "colab": {
      "provenance": [],
      "collapsed_sections": [
        "bSyHyHIGu7s3",
        "GC8IRdtuv8Ke",
        "CDT_5wvuwCT-"
      ]
    },
    "kernelspec": {
      "name": "python3",
      "display_name": "Python 3"
    },
    "language_info": {
      "name": "python"
    }
  },
  "cells": [
    {
      "cell_type": "markdown",
      "source": [
        "# **Apartado Teórico**"
      ],
      "metadata": {
        "id": "bSyHyHIGu7s3"
      }
    },
    {
      "cell_type": "markdown",
      "source": [
        "**¿Qué es un paradigma de programación?**"
      ],
      "metadata": {
        "id": "TYw-6lsRvFM2"
      }
    },
    {
      "cell_type": "markdown",
      "source": [
        "\n",
        "## 1. ¿Qué es un paradigma de programación?\n",
        "Un **paradigma de programación** es un enfoque o estilo de programación que define cómo los problemas pueden ser resueltos mediante un lenguaje de programación. Existen varios paradigmas, entre los más comunes:\n",
        "\n",
        "1. - **Programación imperativa**: Se basa en instrucciones secuenciales que cambian el estado del programa.\n",
        "2. - **Programación orientada a objetos**: Organiza el código alrededor de objetos que contienen datos y métodos.\n",
        "3. - **Programación funcional**: Se centra en funciones puras y evita el estado mutable.\n",
        "4.- **Programación lógica**: Define reglas y hechos, dejando que el sistema resuelva las preguntas a través de la lógica.\n",
        "\n",
        "Cada paradigma ofrece una forma diferente de pensar sobre cómo estructurar y resolver problemas en programación.\n",
        "\n",
        "## 2. ¿En qué se basa la programación orientada a objetos?\n",
        "La **programación orientada a objetos (POO)** se basa en organizar el código en torno a **objetos**, que son instancias de **clases**. Estos objetos tienen:\n",
        "\n",
        "1. - **Atributos** (datos) que describen el estado del objeto.\n",
        "2. - **Métodos** (funciones) que definen su comportamiento.\n",
        "\n",
        "Los principios clave de la POO son:\n",
        "1. - **Encapsulamiento**: Ocultar detalles internos de un objeto y exponer solo lo necesario.\n",
        "2. - **Abstracción**: Simplificar el uso de objetos y clases sin exponer su complejidad interna.\n",
        "3. - **Herencia**: Permitir que las clases hereden características de otras clases, lo que facilita la reutilización del código.\n",
        "4. - **Polimorfismo**: Permitir que los objetos de diferentes clases puedan ser tratados de la misma forma si comparten una interfaz común.\n",
        "\n",
        "## 3. ¿Cuál es la diferencia entre recursividad e iteración, y cómo se relaciona esto con la notación Big O?\n",
        "- **Recursividad**: Es una técnica en la que una función se llama a sí misma para resolver un problema. Se usa comúnmente cuando el problema puede dividirse en subproblemas más pequeños del mismo tipo.\n",
        "- **Iteración**: Es un proceso en el que se repite un bloque de código utilizando bucles como `for` o `while` hasta que se cumpla una condición.\n",
        "\n",
        "### Relación con la notación Big O:\n",
        "- La **recursividad** puede tener una complejidad variable dependiendo de cuántas veces se llame la función a sí misma y cómo se divida el problema. Un mal diseño recursivo puede generar una complejidad alta, como $O(2^n)$ (en problemas como el Fibonacci ingenuo).\n",
        "- La **iteración** a menudo tiene una complejidad más predecible, como `O(n)` para un bucle simple que itera `n` veces.\n",
        "\n",
        "En general, tanto la recursividad como la iteración deben analizarse en términos de **Big O** para entender su eficiencia, basándose en cuántas veces se ejecuta el código y cuántos recursos (como memoria o tiempo) se consumen.\n",
        "\n",
        "## 4. Diferencia de rendimiento entre O(1) y O(n)\n",
        "- **O(1)** (constante): El tiempo de ejecución no depende del tamaño de los datos de entrada. Un ejemplo es acceder a un elemento en un array por su índice. El rendimiento es excelente ya que la operación toma la misma cantidad de tiempo, sin importar cuán grande sea el conjunto de datos.\n",
        "- **O(n)** (lineal): El tiempo de ejecución crece linealmente con respecto al tamaño de los datos de entrada. Un ejemplo es recorrer un array con `n` elementos. A medida que los datos crecen, el tiempo de procesamiento crece proporcionalmente.\n",
        "\n",
        "En resumen, **O(1)** es más eficiente que **O(n)**, ya que el tiempo de ejecución es constante y no aumenta con el tamaño de los datos.\n",
        "\n",
        "## 5. ¿Cómo se calcula el orden en un programa que funciona por etapas?\n",
        "Para calcular el orden (o complejidad) de un programa que tiene múltiples etapas, se debe analizar la complejidad de cada etapa y luego combinarlas. Si las etapas ocurren de forma secuencial, se deben **sumar** sus complejidades y ,por otro lado, si una etapa depende de otra de forma anidada, se **multiplican**.\n",
        "\n",
        "### Ejemplo:\n",
        "Si se tienen dos bucles secuenciales:\n",
        "```python\n",
        "for i in range(n):  # O(n)\n",
        "    # código\n",
        "\n",
        "for j in range(m):  # O(m)\n",
        "    # código\n",
        "```\n",
        "La complejidad total sería **O(n + m)**.\n",
        "\n",
        "Pero si los bucles están anidados:\n",
        "```python\n",
        "for i in range(n):  # O(n)\n",
        "    # código\n",
        "    for j in range(m):  # O(m)\n",
        "    # código\n",
        "```\n",
        "\n",
        "La complejidad sería **O(n * m)**."
      ],
      "metadata": {
        "id": "GEPP6zAT3f3a"
      }
    },
    {
      "cell_type": "markdown",
      "source": [
        "## 6. ¿Cómo se puede determinar la complejidad temporal de un algoritmo recursivo?\n",
        "\n",
        "La complejidad de un algoritmo recursivo puede determinarse utilizando el **Teorema Maestro**\n",
        "o a través de la formulación de una **relación de recurrencia**.\n",
        "\n",
        "### Entre los pasos a seguir para determinar la complejidad temporal están:\n",
        "\n",
        "1. **Identificar el caso base**:\n",
        "   Esto es importante para saber cuándo termina la recursión.\n",
        "\n",
        "2. **Definir la relación de recurrencia**:\n",
        "   Se debe expresar el tiempo total del algoritmo en función del tamaño de los subproblemas.\n",
        "   Para hacerlo, se define la relación que indica cómo se divide el problema y cuántas veces se ejecuta el código recursivo.\n",
        "\n",
        "   Ejemplo:\n",
        "   Si un algoritmo divide el problema en dos subproblemas de tamaño `n/2` y realiza trabajo adicional de orden `O(n)`\n",
        "   en cada paso, la relación de recurrencia se escribiría como:\n",
        "   \n",
        "   T(n) = 2 * T(n/2) + O(n)\n",
        "   \n",
        "   Esto indica que se resuelven 2 subproblemas de tamaño `n/2`, y en cada paso adicional se realiza una operación lineal.\n",
        "\n",
        "3. **Resolver la relación de recurrencia**:\n",
        "   Para obtener la complejidad final del algoritmo, es necesario resolver la relación de recurrencia.\n",
        "   Existen diferentes métodos para resolverla, uno de los más comunes es el **Teorema Maestro**.\n",
        "\n",
        "   En el ejemplo anterior, la relación de recurrencia `T(n) = 2 * T(n/2) + O(n)`\n",
        "   se resuelve como `O(n log n)`, que es una complejidad común en algoritmos de tipo **divide y vencerás**.\n",
        "\n"
      ],
      "metadata": {
        "id": "fIFBnVxx50uA"
      }
    },
    {
      "cell_type": "markdown",
      "source": [
        "# **Anexo**"
      ],
      "metadata": {
        "id": "TF30LH-i7zrm"
      }
    },
    {
      "cell_type": "markdown",
      "source": [
        "# El Teorema Maestro\n",
        "\n",
        "El **Teorema Maestro** es una herramienta utilizada para resolver relaciones de recurrencia en algoritmos\n",
        "que siguen el paradigma de **divide y vencerás**. Sirve para determinar la complejidad temporal de estos algoritmos.\n",
        "\n",
        "### Forma general del teorema maestro:\n",
        "\n",
        "La relación de recurrencia que el teorema maestro resuelve es de la forma:\n",
        "    \n",
        "    T(n) = aT(n/b) + O(n^d)\n",
        "\n",
        "Donde:\n",
        "- **T(n)**: Tiempo total de ejecución para un problema de tamaño **n**.\n",
        "- **a**: Número de subproblemas en los que se divide el problema.\n",
        "- **n/b**: Tamaño de cada subproblema.\n",
        "- **O(n^d)**: El trabajo adicional que realiza el algoritmo para dividir y combinar los subproblemas.\n",
        "\n",
        "### Casos del Teorema Maestro:\n",
        "\n",
        "1. **Caso 1: Si a < b^d**\n",
        "   - En este caso, el término dominante es el trabajo adicional.\n",
        "   - **Complejidad**: T(n) = O(n^d)\n",
        "\n",
        "2. **Caso 2: Si a = b^d**\n",
        "   - Aquí, el costo de los subproblemas y el trabajo adicional son comparables.\n",
        "   - **Complejidad**: T(n) = O(n^d log n)\n",
        "\n",
        "3. **Caso 3: Si a > b^d**\n",
        "   - En este caso, el término dominante es el número de subproblemas.\n",
        "   - **Complejidad**: T(n) = O(n^log_b(a))\n",
        "\n",
        "### Ejemplo:\n",
        "Tomando como ejemplo el mostrado en la pregunta 6:\n",
        "\n",
        "    T(n) = 2T(n/2) + O(n)\n",
        "    \n",
        "Aquí:\n",
        "- **a = 2** (hay 2 subproblemas).\n",
        "- **b = 2** (el tamaño de cada subproblema es n/2).\n",
        "- **d = 1** (el trabajo adicional es O(n)).\n",
        "\n",
        "Dado que **a = b^d = 2^1**, se está en el **Caso 2**:\n",
        "\n",
        "    T(n) = O(n log n)\n",
        "    \n",
        "\n",
        "### Limitaciones:\n",
        "El Teorema Maestro solo puede aplicarse cuando la relación de recurrencia sigue la forma estándar\n",
        "T(n) = $aT(\\frac{n}{b})$ + $O(n^d)$. Si la recurrencia no sigue esta forma o los parámetros no son constantes,\n",
        "se deben usar otros métodos para resolverla.\n"
      ],
      "metadata": {
        "id": "HdUL-AeV6osg"
      }
    },
    {
      "cell_type": "markdown",
      "source": [
        "# **Apartado Práctico**"
      ],
      "metadata": {
        "id": "NzaeRcl2vAkv"
      }
    },
    {
      "cell_type": "markdown",
      "source": [
        "# **Clase y funciones**"
      ],
      "metadata": {
        "id": "GC8IRdtuv8Ke"
      }
    },
    {
      "cell_type": "code",
      "execution_count": 31,
      "metadata": {
        "id": "nX6hvwATu6_6"
      },
      "outputs": [],
      "source": [
        "import time\n",
        "from sympy.utilities.iterables import multiset_permutations\n",
        "import matplotlib.pyplot as plt\n",
        "\n",
        "class paths:\n",
        "    def __init__(self,row,col) -> None:\n",
        "        self.m=row                       #Número de filas\n",
        "        self.n=col                       #Número de columnas\n",
        "    def met_1(self):              #Método 1 basado en todas las posibles permutaciones de m veces hacia abajo y n veces a la derecha\n",
        "        elementos=[\"a\"  if i<= self.m-2 else \"d\" for i in range(self.m +self.n-2) ]            #Se genera el total de elementos\n",
        "        res=[]                                                                                 #Lista vacía para almacenar los resultados\n",
        "        all_perm= list(multiset_permutations(elementos))                                        #Se generan las permutaciones únicas\n",
        "        for perm in all_perm:                                                                   #Se transforman a valores numéricos\n",
        "            p=[1]\n",
        "            for i in range(self.m+self.n-2):\n",
        "                if perm[i]=='d':\n",
        "                    p.append(p[-1]+1)\n",
        "                if perm[i]=='a':\n",
        "                    p.append(p[-1]+self.n)\n",
        "            res.append(p)\n",
        "        return res\n",
        "    def met_2(self):               #Método basado en la recursión\n",
        "        def backtrack(row, col, path):                  #Decorador recursivo\n",
        "            if row == self.m - 1 and col == self.n - 1: # Si hemos llegado al final (esquina inferior derecha)\n",
        "                paths.append(path[:])  # Guardar la ruta actual\n",
        "                return\n",
        "\n",
        "        # Movimiento hacia la derecha si es posible\n",
        "            if col < self.n - 1:\n",
        "                path.append(path[-1] + 1)  # Mover a la derecha\n",
        "                backtrack(row, col + 1, path)  # Recursión\n",
        "                path.pop()  # Deshacer el movimiento (backtrack)\n",
        "\n",
        "        # Movimiento hacia abajo si es posible\n",
        "            if row < self.m - 1:\n",
        "                path.append(path[-1] + self.n)  # Mover hacia abajo\n",
        "                backtrack(row + 1, col, path)  # Recursión\n",
        "                path.pop()  # Deshacer el movimiento (backtrack)\n",
        "\n",
        "        paths = []\n",
        "        backtrack(0, 0, [1])  # Iniciar desde la posición (0,0)\n",
        "        return paths\n",
        "    def tiempo(self,func):        #Función que calcula el tiempo de ejecución de una función\n",
        "        t1=time.time()\n",
        "        func()\n",
        "        t2=time.time()-t1\n",
        "        return t2\n",
        "    def graf(self,func,m,n,color,iter):   #Función que permite graficar el tiempo de ejecución de un método\n",
        "        t=self.tiempo(func)               #Se obtiene el tiempo de ejecución\n",
        "        plt.scatter(m,t,marker=\".\",color=color)    #Se grafica el punto\n",
        "        plt.text(m, t, r'{:.7f}'.format(t),fontsize=6)          #Se truncan los valores decimales de t\n",
        "        plt.xlabel(\"dimensión de matriz [m,n]\")                    #Se escriben los nombres de los ejes\n",
        "        plt.ylabel(\"Tiempo de ejecución [s]\")\n",
        "        if iter==False:                     #En el caso de que no se esté iterando, se agregan las dimensiones de la matriz de forma directa\n",
        "                                            #En el caso iterado se consideran las matrices iteradas como cuadradas (m=n)\n",
        "            tick=[\"(\" + str(m) +\",\" + str(n) + \")\"]\n",
        "            plt.xticks(ticks=[m], labels=tick)\n",
        "\n",
        "\n"
      ]
    },
    {
      "cell_type": "markdown",
      "source": [
        "# **Ejemplos**"
      ],
      "metadata": {
        "id": "CDT_5wvuwCT-"
      }
    },
    {
      "cell_type": "code",
      "source": [
        "def main():     #Ejemplo comparativo entre métodos\n",
        "    mat=paths(3,4)\n",
        "    print(\"Ejemplo de cálculo de posibles caminos de matriz (3,4) usando método 1 y su tiempo de ejecución\")\n",
        "    print(mat.met_1())\n",
        "    print(f\"tiempo de ejecución: {mat.tiempo(mat.met_1)}\")\n",
        "    print(\"\\n\")\n",
        "\n",
        "    print(\"Ejemplo de cálculo de posibles caminos de matriz (3,4) usando método 2 y su tiempo de ejecución\")\n",
        "    print(mat.met_2())\n",
        "    print(f\"tiempo de ejecución: {mat.tiempo(mat.met_2)}\")\n",
        "    print(\"\\n\")\n",
        "\n",
        "    print(\"Comparación entre ambos métodos utilizando matrices cuadradas (i,i) con i = [1,..,7]\")\n",
        "    pos=[]\n",
        "    tick=[]\n",
        "    for i in range(7):\n",
        "        v=1*(i+1)\n",
        "        mat.m=mat.n=v\n",
        "        mat.graf(mat.met_1,v,v,\"red\",True)\n",
        "        mat.graf(mat.met_2,v,v,\"blue\",True)\n",
        "        plt.legend(['método 1','método 2'])\n",
        "        pos.append(i+1)\n",
        "        tick.append((v,v))\n",
        "        plt.xticks(ticks=pos, labels=tick)\n",
        "    plt.show()\n",
        "\n",
        "if __name__ == \"__main__\":\n",
        "    main()"
      ],
      "metadata": {
        "colab": {
          "base_uri": "https://localhost:8080/",
          "height": 669
        },
        "id": "1sIYRCaEwBqu",
        "outputId": "d53b77b9-6a35-4f6a-ecc6-0ca651b19618"
      },
      "execution_count": 32,
      "outputs": [
        {
          "output_type": "stream",
          "name": "stdout",
          "text": [
            "Ejemplo de cálculo de posibles caminos de matriz (3,4) usando método 1 y su tiempo de ejecución\n",
            "[[1, 5, 9, 10, 11, 12], [1, 5, 6, 10, 11, 12], [1, 5, 6, 7, 11, 12], [1, 5, 6, 7, 8, 12], [1, 2, 6, 10, 11, 12], [1, 2, 6, 7, 11, 12], [1, 2, 6, 7, 8, 12], [1, 2, 3, 7, 11, 12], [1, 2, 3, 7, 8, 12], [1, 2, 3, 4, 8, 12]]\n",
            "tiempo de ejecución: 0.00025463104248046875\n",
            "\n",
            "\n",
            "Ejemplo de cálculo de posibles caminos de matriz (3,4) usando método 2 y su tiempo de ejecución\n",
            "[[1, 2, 3, 4, 8, 12], [1, 2, 3, 7, 8, 12], [1, 2, 3, 7, 11, 12], [1, 2, 6, 7, 8, 12], [1, 2, 6, 7, 11, 12], [1, 2, 6, 10, 11, 12], [1, 5, 6, 7, 8, 12], [1, 5, 6, 7, 11, 12], [1, 5, 6, 10, 11, 12], [1, 5, 9, 10, 11, 12]]\n",
            "tiempo de ejecución: 3.743171691894531e-05\n",
            "\n",
            "\n",
            "Comparación entre ambos métodos utilizando matrices cuadradas (i,i) con i = [1,..,7]\n"
          ]
        },
        {
          "output_type": "display_data",
          "data": {
            "text/plain": [
              "<Figure size 640x480 with 1 Axes>"
            ],
            "image/png": "[encoded data removed]"
          },
          "metadata": {}
        }
      ]
    }
  ]
}